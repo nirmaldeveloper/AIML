{
 "cells": [
  {
   "cell_type": "markdown",
   "metadata": {},
   "source": [
    "<img src=\"http://cfs22.simplicdn.net/ice9/new_logo.svgz \"/>\n",
    "\n",
    "# Assignment 01: Evaluate the GDP Dataset\n",
    "\n",
    "*The comments/sections provided are your cues to perform the assignment. You don't need to limit yourself to the number of rows/cells provided. You can add additional rows in each section to add more lines of code.*\n",
    "\n",
    "*If at any point in time you need help on solving this assignment, view our demo video to understand the different steps of the code.*\n",
    "\n",
    "**Happy coding!**\n",
    "\n",
    "* * *"
   ]
  },
  {
   "cell_type": "markdown",
   "metadata": {},
   "source": [
    "#### 1: View and add the dataset"
   ]
  },
  {
   "cell_type": "code",
   "execution_count": 4,
   "metadata": {},
   "outputs": [],
   "source": [
    "#Import required library\n",
    "import numpy as np"
   ]
  },
  {
   "cell_type": "code",
   "execution_count": 5,
   "metadata": {},
   "outputs": [],
   "source": [
    "#Manually add the dataset\n",
    "countries = np.array(['Algeria','Angola','Argentina','Australia','Austria','Bahamas','Bangladesh','Belarus','Belgium','Bhutan','Brazil','Bulgaria','Cambodia','Cameroon','Chile','China','Colombia','Cyprus','Denmark','El Salvador','Estonia','Ethiopia','Fiji','Finland','France','Georgia','Ghana','Grenada','Guinea','Haiti','Honduras','Hungary','India','Indonesia','Ireland','Italy','Japan','Kenya', 'South Korea','Liberia','Malaysia','Mexico', 'Morocco','Nepal','New Zealand','Norway','Pakistan', 'Peru','Qatar','Russia','Singapore','South Africa','Spain','Sweden','Switzerland','Thailand', 'United Arab Emirates','United Kingdom','United States','Uruguay','Venezuela','Vietnam','Zimbabwe'])\n",
    "gdp_countries = np.array([2255.225482,629.9553062,11601.63022,25306.82494,27266.40335,19466.99052,588.3691778,2890.345675,24733.62696,1445.760002,4803.398244,2618.876037,590.4521124,665.7982328,7122.938458,2639.54156,3362.4656,15378.16704,30860.12808,2579.115607,6525.541272,229.6769525,2242.689259,27570.4852,23016.84778,1334.646773,402.6953275,6047.200797,394.1156638,385.5793827,1414.072488,5745.981529,837.7464011,1206.991065,27715.52837,18937.24998,39578.07441,478.2194906,16684.21278,279.2204061,5345.213415,6288.25324,1908.304416,274.8728621,14646.42094,40034.85063,672.1547506,3359.517402,36152.66676,3054.727742,33529.83052,3825.093781,15428.32098,33630.24604,39170.41371,2699.123242,21058.43643,28272.40661,37691.02733,9581.05659,5671.912202,757.4009286,347.7456605])\n"
   ]
  },
  {
   "cell_type": "markdown",
   "metadata": {},
   "source": [
    "#### 2: Find and print the name of the country with the highest GDP"
   ]
  },
  {
   "cell_type": "code",
   "execution_count": 7,
   "metadata": {
    "collapsed": false,
    "jupyter": {
     "outputs_hidden": false
    }
   },
   "outputs": [
    {
     "data": {
      "text/plain": [
       "'Norway'"
      ]
     },
     "execution_count": 7,
     "metadata": {},
     "output_type": "execute_result"
    }
   ],
   "source": [
    "#Use the argmax() method to find the highest GDP\n",
    "countries_with_max_gdp = countries[gdp_countries.argmax()]\n"
   ]
  },
  {
   "cell_type": "code",
   "execution_count": 8,
   "metadata": {},
   "outputs": [
    {
     "data": {
      "text/plain": [
       "'Norway'"
      ]
     },
     "execution_count": 8,
     "metadata": {},
     "output_type": "execute_result"
    }
   ],
   "source": [
    "#Print the name of the country\n",
    "countries_with_max_gdp\n"
   ]
  },
  {
   "cell_type": "markdown",
   "metadata": {},
   "source": [
    "#### 3: Find and print the name of the country with the lowest GDP"
   ]
  },
  {
   "cell_type": "code",
   "execution_count": 9,
   "metadata": {},
   "outputs": [],
   "source": [
    "#Use the argmin() method to find the lowest GDP\n",
    "country_with_lowest_gdp = countries[gdp_countries.argmin()]\n"
   ]
  },
  {
   "cell_type": "code",
   "execution_count": 11,
   "metadata": {},
   "outputs": [
    {
     "data": {
      "text/plain": [
       "'Ethiopia'"
      ]
     },
     "execution_count": 11,
     "metadata": {},
     "output_type": "execute_result"
    }
   ],
   "source": [
    "#Print the name of the country\n",
    "country_with_lowest_gdp"
   ]
  },
  {
   "cell_type": "markdown",
   "metadata": {},
   "source": [
    "#### 4: Print out text ('evaluating country') and input value ('country name') iteratively"
   ]
  },
  {
   "cell_type": "code",
   "execution_count": 18,
   "metadata": {
    "collapsed": false,
    "jupyter": {
     "outputs_hidden": false
    }
   },
   "outputs": [
    {
     "name": "stdout",
     "output_type": "stream",
     "text": [
      "evaulating country : Algeria\n",
      "evaulating country : Angola\n",
      "evaulating country : Argentina\n",
      "evaulating country : Australia\n",
      "evaulating country : Austria\n",
      "evaulating country : Bahamas\n",
      "evaulating country : Bangladesh\n",
      "evaulating country : Belarus\n",
      "evaulating country : Belgium\n",
      "evaulating country : Bhutan\n",
      "evaulating country : Brazil\n",
      "evaulating country : Bulgaria\n",
      "evaulating country : Cambodia\n",
      "evaulating country : Cameroon\n",
      "evaulating country : Chile\n",
      "evaulating country : China\n",
      "evaulating country : Colombia\n",
      "evaulating country : Cyprus\n",
      "evaulating country : Denmark\n",
      "evaulating country : El Salvador\n",
      "evaulating country : Estonia\n",
      "evaulating country : Ethiopia\n",
      "evaulating country : Fiji\n",
      "evaulating country : Finland\n",
      "evaulating country : France\n",
      "evaulating country : Georgia\n",
      "evaulating country : Ghana\n",
      "evaulating country : Grenada\n",
      "evaulating country : Guinea\n",
      "evaulating country : Haiti\n",
      "evaulating country : Honduras\n",
      "evaulating country : Hungary\n",
      "evaulating country : India\n",
      "evaulating country : Indonesia\n",
      "evaulating country : Ireland\n",
      "evaulating country : Italy\n",
      "evaulating country : Japan\n",
      "evaulating country : Kenya\n",
      "evaulating country : South Korea\n",
      "evaulating country : Liberia\n",
      "evaulating country : Malaysia\n",
      "evaulating country : Mexico\n",
      "evaulating country : Morocco\n",
      "evaulating country : Nepal\n",
      "evaulating country : New Zealand\n",
      "evaulating country : Norway\n",
      "evaulating country : Pakistan\n",
      "evaulating country : Peru\n",
      "evaulating country : Qatar\n",
      "evaulating country : Russia\n",
      "evaulating country : Singapore\n",
      "evaulating country : South Africa\n",
      "evaulating country : Spain\n",
      "evaulating country : Sweden\n",
      "evaulating country : Switzerland\n",
      "evaulating country : Thailand\n",
      "evaulating country : United Arab Emirates\n",
      "evaulating country : United Kingdom\n",
      "evaulating country : United States\n",
      "evaulating country : Uruguay\n",
      "evaulating country : Venezuela\n",
      "evaulating country : Vietnam\n",
      "evaulating country : Zimbabwe\n"
     ]
    }
   ],
   "source": [
    "#Use a for loop to print the required output\n",
    "for country in countries:\n",
    "    print('evaulating country : ' + country)"
   ]
  },
  {
   "cell_type": "markdown",
   "metadata": {},
   "source": [
    "#### 5: Print out the entire list of the countries with their GDPs"
   ]
  },
  {
   "cell_type": "code",
   "execution_count": 26,
   "metadata": {
    "collapsed": false,
    "jupyter": {
     "outputs_hidden": false
    }
   },
   "outputs": [
    {
     "name": "stdout",
     "output_type": "stream",
     "text": [
      "Country - Algeria, GDP - 2255.225482\n",
      "Country - Angola, GDP - 629.9553062\n",
      "Country - Argentina, GDP - 11601.63022\n",
      "Country - Australia, GDP - 25306.82494\n",
      "Country - Austria, GDP - 27266.40335\n",
      "Country - Bahamas, GDP - 19466.99052\n",
      "Country - Bangladesh, GDP - 588.3691778\n",
      "Country - Belarus, GDP - 2890.345675\n",
      "Country - Belgium, GDP - 24733.62696\n",
      "Country - Bhutan, GDP - 1445.760002\n",
      "Country - Brazil, GDP - 4803.398244\n",
      "Country - Bulgaria, GDP - 2618.876037\n",
      "Country - Cambodia, GDP - 590.4521124\n",
      "Country - Cameroon, GDP - 665.7982328\n",
      "Country - Chile, GDP - 7122.938458\n",
      "Country - China, GDP - 2639.54156\n",
      "Country - Colombia, GDP - 3362.4656\n",
      "Country - Cyprus, GDP - 15378.16704\n",
      "Country - Denmark, GDP - 30860.12808\n",
      "Country - El Salvador, GDP - 2579.115607\n",
      "Country - Estonia, GDP - 6525.541272\n",
      "Country - Ethiopia, GDP - 229.6769525\n",
      "Country - Fiji, GDP - 2242.689259\n",
      "Country - Finland, GDP - 27570.4852\n",
      "Country - France, GDP - 23016.84778\n",
      "Country - Georgia, GDP - 1334.646773\n",
      "Country - Ghana, GDP - 402.6953275\n",
      "Country - Grenada, GDP - 6047.200797\n",
      "Country - Guinea, GDP - 394.1156638\n",
      "Country - Haiti, GDP - 385.5793827\n",
      "Country - Honduras, GDP - 1414.072488\n",
      "Country - Hungary, GDP - 5745.981529\n",
      "Country - India, GDP - 837.7464011\n",
      "Country - Indonesia, GDP - 1206.991065\n",
      "Country - Ireland, GDP - 27715.52837\n",
      "Country - Italy, GDP - 18937.24998\n",
      "Country - Japan, GDP - 39578.07441\n",
      "Country - Kenya, GDP - 478.2194906\n",
      "Country - South Korea, GDP - 16684.21278\n",
      "Country - Liberia, GDP - 279.2204061\n",
      "Country - Malaysia, GDP - 5345.213415\n",
      "Country - Mexico, GDP - 6288.25324\n",
      "Country - Morocco, GDP - 1908.304416\n",
      "Country - Nepal, GDP - 274.8728621\n",
      "Country - New Zealand, GDP - 14646.42094\n",
      "Country - Norway, GDP - 40034.85063\n",
      "Country - Pakistan, GDP - 672.1547506\n",
      "Country - Peru, GDP - 3359.517402\n",
      "Country - Qatar, GDP - 36152.66676\n",
      "Country - Russia, GDP - 3054.727742\n",
      "Country - Singapore, GDP - 33529.83052\n",
      "Country - South Africa, GDP - 3825.093781\n",
      "Country - Spain, GDP - 15428.32098\n",
      "Country - Sweden, GDP - 33630.24604\n",
      "Country - Switzerland, GDP - 39170.41371\n",
      "Country - Thailand, GDP - 2699.123242\n",
      "Country - United Arab Emirates, GDP - 21058.43643\n",
      "Country - United Kingdom, GDP - 28272.40661\n",
      "Country - United States, GDP - 37691.02733\n",
      "Country - Uruguay, GDP - 9581.05659\n",
      "Country - Venezuela, GDP - 5671.912202\n",
      "Country - Vietnam, GDP - 757.4009286\n",
      "Country - Zimbabwe, GDP - 347.7456605\n"
     ]
    }
   ],
   "source": [
    "#Use a for loop to print the required list\n",
    "for i in range(len(countries)):\n",
    "    country = countries[i]\n",
    "    gdp = gdp_countries[i]\n",
    "    print('Country - {}, GDP - {}'.format( country , gdp))"
   ]
  },
  {
   "cell_type": "markdown",
   "metadata": {},
   "source": [
    "#### 6: Print the following:\n",
    "1. Highest GPD value\n",
    "2. Lowest GDP value\n",
    "3. Mean GDP value\n",
    "4. Standardized GDP value\n",
    "5. Sum of all the GDPs"
   ]
  },
  {
   "cell_type": "code",
   "execution_count": 17,
   "metadata": {},
   "outputs": [
    {
     "data": {
      "text/plain": [
       "(45,\n",
       " 21,\n",
       " 11289.409271639683,\n",
       " array([-0.70890655, -0.83644045,  0.02449978,  1.09993753,  1.25370438,\n",
       "         0.6416895 , -0.83970368, -0.65906908,  1.05495905, -0.77242478,\n",
       "        -0.50895308, -0.68037113, -0.83954024, -0.83362788, -0.32694027,\n",
       "        -0.67874952, -0.62202214,  0.32084217,  1.53570163, -0.6834911 ,\n",
       "        -0.37381764, -0.86785003, -0.70989026,  1.27756548,  0.9202445 ,\n",
       "        -0.78114377, -0.85427339, -0.4113527 , -0.85494663, -0.85561647,\n",
       "        -0.77491128, -0.43498918, -0.82013522, -0.79116083,  1.28894693,\n",
       "         0.60012111,  2.21979323, -0.84834706,  0.42332674, -0.86396239,\n",
       "        -0.4664372 , -0.39243747, -0.73612922, -0.86430354,  0.26342253,\n",
       "         2.25563616, -0.83312909, -0.62225348,  1.95100371, -0.64617013,\n",
       "         1.74519145, -0.58572   ,  0.32477772,  1.75307099,  2.18780436,\n",
       "        -0.67407418,  0.76656923,  1.3326448 ,  2.07171787, -0.13405333,\n",
       "        -0.44080136, -0.82643987, -0.85858526]),\n",
       " 711232.7841133001)"
      ]
     },
     "execution_count": 17,
     "metadata": {},
     "output_type": "execute_result"
    }
   ],
   "source": [
    "gdp_countries.argmax(), gdp_countries.argmin(),gdp_countries.mean(),(gdp_countries - gdp_countries.mean())/gdp_countries.std(), sum(gdp_countries)"
   ]
  },
  {
   "cell_type": "code",
   "execution_count": null,
   "metadata": {},
   "outputs": [],
   "source": []
  }
 ],
 "metadata": {
  "kernelspec": {
   "display_name": "Python 3",
   "language": "python",
   "name": "python3"
  },
  "language_info": {
   "codemirror_mode": {
    "name": "ipython",
    "version": 3
   },
   "file_extension": ".py",
   "mimetype": "text/x-python",
   "name": "python",
   "nbconvert_exporter": "python",
   "pygments_lexer": "ipython3",
   "version": "3.7.6"
  }
 },
 "nbformat": 4,
 "nbformat_minor": 4
}
