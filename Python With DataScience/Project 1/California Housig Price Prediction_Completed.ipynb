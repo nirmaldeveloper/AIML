{
 "cells": [
  {
   "cell_type": "markdown",
   "metadata": {},
   "source": [
    "## California Housing Price Prediction Project"
   ]
  },
  {
   "cell_type": "markdown",
   "metadata": {},
   "source": [
    "### Part A: Predict housing prices using all feature variables"
   ]
  },
  {
   "cell_type": "markdown",
   "metadata": {},
   "source": [
    "#### 1. Import Necessary libraries to use"
   ]
  },
  {
   "cell_type": "code",
   "execution_count": 1,
   "metadata": {},
   "outputs": [],
   "source": [
    "import numpy as np\n",
    "import pandas as pd\n",
    "from sklearn.linear_model import LinearRegression\n",
    "from sklearn.model_selection  import train_test_split"
   ]
  },
  {
   "cell_type": "markdown",
   "metadata": {},
   "source": [
    "#### 2. Read housing data from Excel file and inspect the data and datatypes"
   ]
  },
  {
   "cell_type": "code",
   "execution_count": 2,
   "metadata": {},
   "outputs": [
    {
     "data": {
      "text/html": [
       "<div>\n",
       "<style scoped>\n",
       "    .dataframe tbody tr th:only-of-type {\n",
       "        vertical-align: middle;\n",
       "    }\n",
       "\n",
       "    .dataframe tbody tr th {\n",
       "        vertical-align: top;\n",
       "    }\n",
       "\n",
       "    .dataframe thead th {\n",
       "        text-align: right;\n",
       "    }\n",
       "</style>\n",
       "<table border=\"1\" class=\"dataframe\">\n",
       "  <thead>\n",
       "    <tr style=\"text-align: right;\">\n",
       "      <th></th>\n",
       "      <th>longitude</th>\n",
       "      <th>latitude</th>\n",
       "      <th>housing_median_age</th>\n",
       "      <th>total_rooms</th>\n",
       "      <th>total_bedrooms</th>\n",
       "      <th>population</th>\n",
       "      <th>households</th>\n",
       "      <th>median_income</th>\n",
       "      <th>ocean_proximity</th>\n",
       "      <th>median_house_value</th>\n",
       "    </tr>\n",
       "  </thead>\n",
       "  <tbody>\n",
       "    <tr>\n",
       "      <th>0</th>\n",
       "      <td>-122.23</td>\n",
       "      <td>37.88</td>\n",
       "      <td>41</td>\n",
       "      <td>880</td>\n",
       "      <td>129.0</td>\n",
       "      <td>322</td>\n",
       "      <td>126</td>\n",
       "      <td>8.3252</td>\n",
       "      <td>NEAR BAY</td>\n",
       "      <td>452600</td>\n",
       "    </tr>\n",
       "    <tr>\n",
       "      <th>1</th>\n",
       "      <td>-122.22</td>\n",
       "      <td>37.86</td>\n",
       "      <td>21</td>\n",
       "      <td>7099</td>\n",
       "      <td>1106.0</td>\n",
       "      <td>2401</td>\n",
       "      <td>1138</td>\n",
       "      <td>8.3014</td>\n",
       "      <td>NEAR BAY</td>\n",
       "      <td>358500</td>\n",
       "    </tr>\n",
       "    <tr>\n",
       "      <th>2</th>\n",
       "      <td>-122.24</td>\n",
       "      <td>37.85</td>\n",
       "      <td>52</td>\n",
       "      <td>1467</td>\n",
       "      <td>190.0</td>\n",
       "      <td>496</td>\n",
       "      <td>177</td>\n",
       "      <td>7.2574</td>\n",
       "      <td>NEAR BAY</td>\n",
       "      <td>352100</td>\n",
       "    </tr>\n",
       "    <tr>\n",
       "      <th>3</th>\n",
       "      <td>-122.25</td>\n",
       "      <td>37.85</td>\n",
       "      <td>52</td>\n",
       "      <td>1274</td>\n",
       "      <td>235.0</td>\n",
       "      <td>558</td>\n",
       "      <td>219</td>\n",
       "      <td>5.6431</td>\n",
       "      <td>NEAR BAY</td>\n",
       "      <td>341300</td>\n",
       "    </tr>\n",
       "    <tr>\n",
       "      <th>4</th>\n",
       "      <td>-122.25</td>\n",
       "      <td>37.85</td>\n",
       "      <td>52</td>\n",
       "      <td>1627</td>\n",
       "      <td>280.0</td>\n",
       "      <td>565</td>\n",
       "      <td>259</td>\n",
       "      <td>3.8462</td>\n",
       "      <td>NEAR BAY</td>\n",
       "      <td>342200</td>\n",
       "    </tr>\n",
       "  </tbody>\n",
       "</table>\n",
       "</div>"
      ],
      "text/plain": [
       "   longitude  latitude  housing_median_age  total_rooms  total_bedrooms  \\\n",
       "0    -122.23     37.88                  41          880           129.0   \n",
       "1    -122.22     37.86                  21         7099          1106.0   \n",
       "2    -122.24     37.85                  52         1467           190.0   \n",
       "3    -122.25     37.85                  52         1274           235.0   \n",
       "4    -122.25     37.85                  52         1627           280.0   \n",
       "\n",
       "   population  households  median_income ocean_proximity  median_house_value  \n",
       "0         322         126         8.3252        NEAR BAY              452600  \n",
       "1        2401        1138         8.3014        NEAR BAY              358500  \n",
       "2         496         177         7.2574        NEAR BAY              352100  \n",
       "3         558         219         5.6431        NEAR BAY              341300  \n",
       "4         565         259         3.8462        NEAR BAY              342200  "
      ]
     },
     "execution_count": 2,
     "metadata": {},
     "output_type": "execute_result"
    }
   ],
   "source": [
    "df_California_housing_data = pd.read_excel(\"California_housing_data.xlsx\")\n",
    "df_California_housing_data.head()"
   ]
  },
  {
   "cell_type": "code",
   "execution_count": 3,
   "metadata": {},
   "outputs": [
    {
     "data": {
      "text/plain": [
       "longitude             float64\n",
       "latitude              float64\n",
       "housing_median_age      int64\n",
       "total_rooms             int64\n",
       "total_bedrooms        float64\n",
       "population              int64\n",
       "households              int64\n",
       "median_income         float64\n",
       "ocean_proximity        object\n",
       "median_house_value      int64\n",
       "dtype: object"
      ]
     },
     "execution_count": 3,
     "metadata": {},
     "output_type": "execute_result"
    }
   ],
   "source": [
    "df_California_housing_data.dtypes"
   ]
  },
  {
   "cell_type": "markdown",
   "metadata": {},
   "source": [
    "#### 3. From above we got to know that only ocean_proximity is non-numeric column, lets replace it with numeric values in step 6."
   ]
  },
  {
   "cell_type": "markdown",
   "metadata": {},
   "source": [
    "#### 4. Standardize the target and fill missing values with mean of respective columns."
   ]
  },
  {
   "cell_type": "code",
   "execution_count": 4,
   "metadata": {},
   "outputs": [],
   "source": [
    "df_California_housing_data[\"median_house_value\"] = np.log(df_California_housing_data[\"median_house_value\"])"
   ]
  },
  {
   "cell_type": "code",
   "execution_count": 5,
   "metadata": {},
   "outputs": [
    {
     "data": {
      "text/html": [
       "<div>\n",
       "<style scoped>\n",
       "    .dataframe tbody tr th:only-of-type {\n",
       "        vertical-align: middle;\n",
       "    }\n",
       "\n",
       "    .dataframe tbody tr th {\n",
       "        vertical-align: top;\n",
       "    }\n",
       "\n",
       "    .dataframe thead th {\n",
       "        text-align: right;\n",
       "    }\n",
       "</style>\n",
       "<table border=\"1\" class=\"dataframe\">\n",
       "  <thead>\n",
       "    <tr style=\"text-align: right;\">\n",
       "      <th></th>\n",
       "      <th>longitude</th>\n",
       "      <th>latitude</th>\n",
       "      <th>housing_median_age</th>\n",
       "      <th>total_rooms</th>\n",
       "      <th>total_bedrooms</th>\n",
       "      <th>population</th>\n",
       "      <th>households</th>\n",
       "      <th>median_income</th>\n",
       "      <th>ocean_proximity</th>\n",
       "      <th>median_house_value</th>\n",
       "    </tr>\n",
       "  </thead>\n",
       "  <tbody>\n",
       "    <tr>\n",
       "      <th>290</th>\n",
       "      <td>-122.16</td>\n",
       "      <td>37.77</td>\n",
       "      <td>47</td>\n",
       "      <td>1256</td>\n",
       "      <td>NaN</td>\n",
       "      <td>570</td>\n",
       "      <td>218</td>\n",
       "      <td>4.3750</td>\n",
       "      <td>NEAR BAY</td>\n",
       "      <td>11.994734</td>\n",
       "    </tr>\n",
       "    <tr>\n",
       "      <th>341</th>\n",
       "      <td>-122.17</td>\n",
       "      <td>37.75</td>\n",
       "      <td>38</td>\n",
       "      <td>992</td>\n",
       "      <td>NaN</td>\n",
       "      <td>732</td>\n",
       "      <td>259</td>\n",
       "      <td>1.6196</td>\n",
       "      <td>NEAR BAY</td>\n",
       "      <td>11.351582</td>\n",
       "    </tr>\n",
       "    <tr>\n",
       "      <th>538</th>\n",
       "      <td>-122.28</td>\n",
       "      <td>37.78</td>\n",
       "      <td>29</td>\n",
       "      <td>5154</td>\n",
       "      <td>NaN</td>\n",
       "      <td>3741</td>\n",
       "      <td>1273</td>\n",
       "      <td>2.5762</td>\n",
       "      <td>NEAR BAY</td>\n",
       "      <td>12.063356</td>\n",
       "    </tr>\n",
       "    <tr>\n",
       "      <th>563</th>\n",
       "      <td>-122.24</td>\n",
       "      <td>37.75</td>\n",
       "      <td>45</td>\n",
       "      <td>891</td>\n",
       "      <td>NaN</td>\n",
       "      <td>384</td>\n",
       "      <td>146</td>\n",
       "      <td>4.9489</td>\n",
       "      <td>NEAR BAY</td>\n",
       "      <td>12.417548</td>\n",
       "    </tr>\n",
       "    <tr>\n",
       "      <th>696</th>\n",
       "      <td>-122.10</td>\n",
       "      <td>37.69</td>\n",
       "      <td>41</td>\n",
       "      <td>746</td>\n",
       "      <td>NaN</td>\n",
       "      <td>387</td>\n",
       "      <td>161</td>\n",
       "      <td>3.9063</td>\n",
       "      <td>NEAR BAY</td>\n",
       "      <td>12.091783</td>\n",
       "    </tr>\n",
       "    <tr>\n",
       "      <th>...</th>\n",
       "      <td>...</td>\n",
       "      <td>...</td>\n",
       "      <td>...</td>\n",
       "      <td>...</td>\n",
       "      <td>...</td>\n",
       "      <td>...</td>\n",
       "      <td>...</td>\n",
       "      <td>...</td>\n",
       "      <td>...</td>\n",
       "      <td>...</td>\n",
       "    </tr>\n",
       "    <tr>\n",
       "      <th>20267</th>\n",
       "      <td>-119.19</td>\n",
       "      <td>34.20</td>\n",
       "      <td>18</td>\n",
       "      <td>3620</td>\n",
       "      <td>NaN</td>\n",
       "      <td>3171</td>\n",
       "      <td>779</td>\n",
       "      <td>3.3409</td>\n",
       "      <td>NEAR OCEAN</td>\n",
       "      <td>12.303653</td>\n",
       "    </tr>\n",
       "    <tr>\n",
       "      <th>20268</th>\n",
       "      <td>-119.18</td>\n",
       "      <td>34.19</td>\n",
       "      <td>19</td>\n",
       "      <td>2393</td>\n",
       "      <td>NaN</td>\n",
       "      <td>1938</td>\n",
       "      <td>762</td>\n",
       "      <td>1.6953</td>\n",
       "      <td>NEAR OCEAN</td>\n",
       "      <td>12.028141</td>\n",
       "    </tr>\n",
       "    <tr>\n",
       "      <th>20372</th>\n",
       "      <td>-118.88</td>\n",
       "      <td>34.17</td>\n",
       "      <td>15</td>\n",
       "      <td>4260</td>\n",
       "      <td>NaN</td>\n",
       "      <td>1701</td>\n",
       "      <td>669</td>\n",
       "      <td>5.1033</td>\n",
       "      <td>&lt;1H OCEAN</td>\n",
       "      <td>12.925618</td>\n",
       "    </tr>\n",
       "    <tr>\n",
       "      <th>20460</th>\n",
       "      <td>-118.75</td>\n",
       "      <td>34.29</td>\n",
       "      <td>17</td>\n",
       "      <td>5512</td>\n",
       "      <td>NaN</td>\n",
       "      <td>2734</td>\n",
       "      <td>814</td>\n",
       "      <td>6.6073</td>\n",
       "      <td>&lt;1H OCEAN</td>\n",
       "      <td>12.461102</td>\n",
       "    </tr>\n",
       "    <tr>\n",
       "      <th>20484</th>\n",
       "      <td>-118.72</td>\n",
       "      <td>34.28</td>\n",
       "      <td>17</td>\n",
       "      <td>3051</td>\n",
       "      <td>NaN</td>\n",
       "      <td>1705</td>\n",
       "      <td>495</td>\n",
       "      <td>5.7376</td>\n",
       "      <td>&lt;1H OCEAN</td>\n",
       "      <td>12.294999</td>\n",
       "    </tr>\n",
       "  </tbody>\n",
       "</table>\n",
       "<p>207 rows × 10 columns</p>\n",
       "</div>"
      ],
      "text/plain": [
       "       longitude  latitude  housing_median_age  total_rooms  total_bedrooms  \\\n",
       "290      -122.16     37.77                  47         1256             NaN   \n",
       "341      -122.17     37.75                  38          992             NaN   \n",
       "538      -122.28     37.78                  29         5154             NaN   \n",
       "563      -122.24     37.75                  45          891             NaN   \n",
       "696      -122.10     37.69                  41          746             NaN   \n",
       "...          ...       ...                 ...          ...             ...   \n",
       "20267    -119.19     34.20                  18         3620             NaN   \n",
       "20268    -119.18     34.19                  19         2393             NaN   \n",
       "20372    -118.88     34.17                  15         4260             NaN   \n",
       "20460    -118.75     34.29                  17         5512             NaN   \n",
       "20484    -118.72     34.28                  17         3051             NaN   \n",
       "\n",
       "       population  households  median_income ocean_proximity  \\\n",
       "290           570         218         4.3750        NEAR BAY   \n",
       "341           732         259         1.6196        NEAR BAY   \n",
       "538          3741        1273         2.5762        NEAR BAY   \n",
       "563           384         146         4.9489        NEAR BAY   \n",
       "696           387         161         3.9063        NEAR BAY   \n",
       "...           ...         ...            ...             ...   \n",
       "20267        3171         779         3.3409      NEAR OCEAN   \n",
       "20268        1938         762         1.6953      NEAR OCEAN   \n",
       "20372        1701         669         5.1033       <1H OCEAN   \n",
       "20460        2734         814         6.6073       <1H OCEAN   \n",
       "20484        1705         495         5.7376       <1H OCEAN   \n",
       "\n",
       "       median_house_value  \n",
       "290             11.994734  \n",
       "341             11.351582  \n",
       "538             12.063356  \n",
       "563             12.417548  \n",
       "696             12.091783  \n",
       "...                   ...  \n",
       "20267           12.303653  \n",
       "20268           12.028141  \n",
       "20372           12.925618  \n",
       "20460           12.461102  \n",
       "20484           12.294999  \n",
       "\n",
       "[207 rows x 10 columns]"
      ]
     },
     "execution_count": 5,
     "metadata": {},
     "output_type": "execute_result"
    }
   ],
   "source": [
    "#Check for ROWS with MISSING VALUES\n",
    "df_California_housing_data[df_California_housing_data.isnull().any(axis=1)]"
   ]
  },
  {
   "cell_type": "code",
   "execution_count": 6,
   "metadata": {},
   "outputs": [],
   "source": [
    "#From above observation total_bedrooms column has missing values so replace it with mean of total_bedrooms.\n",
    "df_California_housing_data[\"total_bedrooms\"] = df_California_housing_data[\"total_bedrooms\"].replace(np.nan,df_California_housing_data[\"total_bedrooms\"].mean())"
   ]
  },
  {
   "cell_type": "code",
   "execution_count": 7,
   "metadata": {},
   "outputs": [
    {
     "data": {
      "text/html": [
       "<div>\n",
       "<style scoped>\n",
       "    .dataframe tbody tr th:only-of-type {\n",
       "        vertical-align: middle;\n",
       "    }\n",
       "\n",
       "    .dataframe tbody tr th {\n",
       "        vertical-align: top;\n",
       "    }\n",
       "\n",
       "    .dataframe thead th {\n",
       "        text-align: right;\n",
       "    }\n",
       "</style>\n",
       "<table border=\"1\" class=\"dataframe\">\n",
       "  <thead>\n",
       "    <tr style=\"text-align: right;\">\n",
       "      <th></th>\n",
       "      <th>longitude</th>\n",
       "      <th>latitude</th>\n",
       "      <th>housing_median_age</th>\n",
       "      <th>total_rooms</th>\n",
       "      <th>total_bedrooms</th>\n",
       "      <th>population</th>\n",
       "      <th>households</th>\n",
       "      <th>median_income</th>\n",
       "      <th>ocean_proximity</th>\n",
       "      <th>median_house_value</th>\n",
       "    </tr>\n",
       "  </thead>\n",
       "  <tbody>\n",
       "  </tbody>\n",
       "</table>\n",
       "</div>"
      ],
      "text/plain": [
       "Empty DataFrame\n",
       "Columns: [longitude, latitude, housing_median_age, total_rooms, total_bedrooms, population, households, median_income, ocean_proximity, median_house_value]\n",
       "Index: []"
      ]
     },
     "execution_count": 7,
     "metadata": {},
     "output_type": "execute_result"
    }
   ],
   "source": [
    "#Checking again if any missing values exists for other columns other than total_bedrooms\n",
    "df_California_housing_data[df_California_housing_data.isnull().any(axis=1)]"
   ]
  },
  {
   "cell_type": "markdown",
   "metadata": {},
   "source": [
    "#### 5. Check the total categories available for non-numeric categorical column, \"ocean_proximity\"."
   ]
  },
  {
   "cell_type": "code",
   "execution_count": 8,
   "metadata": {},
   "outputs": [
    {
     "data": {
      "text/html": [
       "<div>\n",
       "<style scoped>\n",
       "    .dataframe tbody tr th:only-of-type {\n",
       "        vertical-align: middle;\n",
       "    }\n",
       "\n",
       "    .dataframe tbody tr th {\n",
       "        vertical-align: top;\n",
       "    }\n",
       "\n",
       "    .dataframe thead tr th {\n",
       "        text-align: left;\n",
       "    }\n",
       "\n",
       "    .dataframe thead tr:last-of-type th {\n",
       "        text-align: right;\n",
       "    }\n",
       "</style>\n",
       "<table border=\"1\" class=\"dataframe\">\n",
       "  <thead>\n",
       "    <tr>\n",
       "      <th></th>\n",
       "      <th colspan=\"8\" halign=\"left\">longitude</th>\n",
       "      <th colspan=\"2\" halign=\"left\">latitude</th>\n",
       "      <th>...</th>\n",
       "      <th colspan=\"2\" halign=\"left\">median_income</th>\n",
       "      <th colspan=\"8\" halign=\"left\">median_house_value</th>\n",
       "    </tr>\n",
       "    <tr>\n",
       "      <th></th>\n",
       "      <th>count</th>\n",
       "      <th>mean</th>\n",
       "      <th>std</th>\n",
       "      <th>min</th>\n",
       "      <th>25%</th>\n",
       "      <th>50%</th>\n",
       "      <th>75%</th>\n",
       "      <th>max</th>\n",
       "      <th>count</th>\n",
       "      <th>mean</th>\n",
       "      <th>...</th>\n",
       "      <th>75%</th>\n",
       "      <th>max</th>\n",
       "      <th>count</th>\n",
       "      <th>mean</th>\n",
       "      <th>std</th>\n",
       "      <th>min</th>\n",
       "      <th>25%</th>\n",
       "      <th>50%</th>\n",
       "      <th>75%</th>\n",
       "      <th>max</th>\n",
       "    </tr>\n",
       "    <tr>\n",
       "      <th>ocean_proximity</th>\n",
       "      <th></th>\n",
       "      <th></th>\n",
       "      <th></th>\n",
       "      <th></th>\n",
       "      <th></th>\n",
       "      <th></th>\n",
       "      <th></th>\n",
       "      <th></th>\n",
       "      <th></th>\n",
       "      <th></th>\n",
       "      <th></th>\n",
       "      <th></th>\n",
       "      <th></th>\n",
       "      <th></th>\n",
       "      <th></th>\n",
       "      <th></th>\n",
       "      <th></th>\n",
       "      <th></th>\n",
       "      <th></th>\n",
       "      <th></th>\n",
       "      <th></th>\n",
       "    </tr>\n",
       "  </thead>\n",
       "  <tbody>\n",
       "    <tr>\n",
       "      <th>&lt;1H OCEAN</th>\n",
       "      <td>9136.0</td>\n",
       "      <td>-118.847766</td>\n",
       "      <td>1.588888</td>\n",
       "      <td>-124.14</td>\n",
       "      <td>-118.50</td>\n",
       "      <td>-118.275</td>\n",
       "      <td>-118.0000</td>\n",
       "      <td>-116.62</td>\n",
       "      <td>9136.0</td>\n",
       "      <td>34.560577</td>\n",
       "      <td>...</td>\n",
       "      <td>5.180500</td>\n",
       "      <td>15.0001</td>\n",
       "      <td>9136.0</td>\n",
       "      <td>12.296695</td>\n",
       "      <td>0.429593</td>\n",
       "      <td>9.769956</td>\n",
       "      <td>12.008231</td>\n",
       "      <td>12.277695</td>\n",
       "      <td>12.574528</td>\n",
       "      <td>13.122365</td>\n",
       "    </tr>\n",
       "    <tr>\n",
       "      <th>INLAND</th>\n",
       "      <td>6551.0</td>\n",
       "      <td>-119.732990</td>\n",
       "      <td>1.900950</td>\n",
       "      <td>-123.73</td>\n",
       "      <td>-121.35</td>\n",
       "      <td>-120.000</td>\n",
       "      <td>-117.8400</td>\n",
       "      <td>-114.31</td>\n",
       "      <td>6551.0</td>\n",
       "      <td>36.731829</td>\n",
       "      <td>...</td>\n",
       "      <td>3.961500</td>\n",
       "      <td>15.0001</td>\n",
       "      <td>6551.0</td>\n",
       "      <td>11.610977</td>\n",
       "      <td>0.482824</td>\n",
       "      <td>9.615739</td>\n",
       "      <td>11.258033</td>\n",
       "      <td>11.594505</td>\n",
       "      <td>11.911366</td>\n",
       "      <td>13.122365</td>\n",
       "    </tr>\n",
       "    <tr>\n",
       "      <th>ISLAND</th>\n",
       "      <td>5.0</td>\n",
       "      <td>-118.354000</td>\n",
       "      <td>0.070569</td>\n",
       "      <td>-118.48</td>\n",
       "      <td>-118.33</td>\n",
       "      <td>-118.320</td>\n",
       "      <td>-118.3200</td>\n",
       "      <td>-118.32</td>\n",
       "      <td>5.0</td>\n",
       "      <td>33.358000</td>\n",
       "      <td>...</td>\n",
       "      <td>2.833300</td>\n",
       "      <td>3.3906</td>\n",
       "      <td>5.0</td>\n",
       "      <td>12.829966</td>\n",
       "      <td>0.221861</td>\n",
       "      <td>12.568978</td>\n",
       "      <td>12.611538</td>\n",
       "      <td>12.935311</td>\n",
       "      <td>13.017003</td>\n",
       "      <td>13.017003</td>\n",
       "    </tr>\n",
       "    <tr>\n",
       "      <th>NEAR BAY</th>\n",
       "      <td>2290.0</td>\n",
       "      <td>-122.260694</td>\n",
       "      <td>0.147004</td>\n",
       "      <td>-122.59</td>\n",
       "      <td>-122.41</td>\n",
       "      <td>-122.250</td>\n",
       "      <td>-122.1400</td>\n",
       "      <td>-122.01</td>\n",
       "      <td>2290.0</td>\n",
       "      <td>37.801057</td>\n",
       "      <td>...</td>\n",
       "      <td>5.054425</td>\n",
       "      <td>15.0001</td>\n",
       "      <td>2290.0</td>\n",
       "      <td>12.345131</td>\n",
       "      <td>0.507030</td>\n",
       "      <td>10.021271</td>\n",
       "      <td>11.998433</td>\n",
       "      <td>12.362221</td>\n",
       "      <td>12.753327</td>\n",
       "      <td>13.122365</td>\n",
       "    </tr>\n",
       "    <tr>\n",
       "      <th>NEAR OCEAN</th>\n",
       "      <td>2658.0</td>\n",
       "      <td>-119.332555</td>\n",
       "      <td>2.327307</td>\n",
       "      <td>-124.35</td>\n",
       "      <td>-122.02</td>\n",
       "      <td>-118.260</td>\n",
       "      <td>-117.1825</td>\n",
       "      <td>-116.97</td>\n",
       "      <td>2658.0</td>\n",
       "      <td>34.738439</td>\n",
       "      <td>...</td>\n",
       "      <td>4.837400</td>\n",
       "      <td>15.0001</td>\n",
       "      <td>2658.0</td>\n",
       "      <td>12.299245</td>\n",
       "      <td>0.521518</td>\n",
       "      <td>10.021271</td>\n",
       "      <td>11.918391</td>\n",
       "      <td>12.343440</td>\n",
       "      <td>12.684633</td>\n",
       "      <td>13.122365</td>\n",
       "    </tr>\n",
       "  </tbody>\n",
       "</table>\n",
       "<p>5 rows × 72 columns</p>\n",
       "</div>"
      ],
      "text/plain": [
       "                longitude                                                 \\\n",
       "                    count        mean       std     min     25%      50%   \n",
       "ocean_proximity                                                            \n",
       "<1H OCEAN          9136.0 -118.847766  1.588888 -124.14 -118.50 -118.275   \n",
       "INLAND             6551.0 -119.732990  1.900950 -123.73 -121.35 -120.000   \n",
       "ISLAND                5.0 -118.354000  0.070569 -118.48 -118.33 -118.320   \n",
       "NEAR BAY           2290.0 -122.260694  0.147004 -122.59 -122.41 -122.250   \n",
       "NEAR OCEAN         2658.0 -119.332555  2.327307 -124.35 -122.02 -118.260   \n",
       "\n",
       "                                  latitude             ... median_income  \\\n",
       "                      75%     max    count       mean  ...           75%   \n",
       "ocean_proximity                                        ...                 \n",
       "<1H OCEAN       -118.0000 -116.62   9136.0  34.560577  ...      5.180500   \n",
       "INLAND          -117.8400 -114.31   6551.0  36.731829  ...      3.961500   \n",
       "ISLAND          -118.3200 -118.32      5.0  33.358000  ...      2.833300   \n",
       "NEAR BAY        -122.1400 -122.01   2290.0  37.801057  ...      5.054425   \n",
       "NEAR OCEAN      -117.1825 -116.97   2658.0  34.738439  ...      4.837400   \n",
       "\n",
       "                         median_house_value                                  \\\n",
       "                     max              count       mean       std        min   \n",
       "ocean_proximity                                                               \n",
       "<1H OCEAN        15.0001             9136.0  12.296695  0.429593   9.769956   \n",
       "INLAND           15.0001             6551.0  11.610977  0.482824   9.615739   \n",
       "ISLAND            3.3906                5.0  12.829966  0.221861  12.568978   \n",
       "NEAR BAY         15.0001             2290.0  12.345131  0.507030  10.021271   \n",
       "NEAR OCEAN       15.0001             2658.0  12.299245  0.521518  10.021271   \n",
       "\n",
       "                                                             \n",
       "                       25%        50%        75%        max  \n",
       "ocean_proximity                                              \n",
       "<1H OCEAN        12.008231  12.277695  12.574528  13.122365  \n",
       "INLAND           11.258033  11.594505  11.911366  13.122365  \n",
       "ISLAND           12.611538  12.935311  13.017003  13.017003  \n",
       "NEAR BAY         11.998433  12.362221  12.753327  13.122365  \n",
       "NEAR OCEAN       11.918391  12.343440  12.684633  13.122365  \n",
       "\n",
       "[5 rows x 72 columns]"
      ]
     },
     "execution_count": 8,
     "metadata": {},
     "output_type": "execute_result"
    }
   ],
   "source": [
    "df_California_housing_data.groupby('ocean_proximity').describe()"
   ]
  },
  {
   "cell_type": "markdown",
   "metadata": {},
   "source": [
    "#### 6. There is one categorical column called ocean_proximity with 5 categories. Replace categorical column with integer values and view the modified dataframe."
   ]
  },
  {
   "cell_type": "code",
   "execution_count": 9,
   "metadata": {},
   "outputs": [
    {
     "data": {
      "text/html": [
       "<div>\n",
       "<style scoped>\n",
       "    .dataframe tbody tr th:only-of-type {\n",
       "        vertical-align: middle;\n",
       "    }\n",
       "\n",
       "    .dataframe tbody tr th {\n",
       "        vertical-align: top;\n",
       "    }\n",
       "\n",
       "    .dataframe thead th {\n",
       "        text-align: right;\n",
       "    }\n",
       "</style>\n",
       "<table border=\"1\" class=\"dataframe\">\n",
       "  <thead>\n",
       "    <tr style=\"text-align: right;\">\n",
       "      <th></th>\n",
       "      <th>longitude</th>\n",
       "      <th>latitude</th>\n",
       "      <th>housing_median_age</th>\n",
       "      <th>total_rooms</th>\n",
       "      <th>total_bedrooms</th>\n",
       "      <th>population</th>\n",
       "      <th>households</th>\n",
       "      <th>median_income</th>\n",
       "      <th>ocean_proximity</th>\n",
       "      <th>median_house_value</th>\n",
       "    </tr>\n",
       "  </thead>\n",
       "  <tbody>\n",
       "    <tr>\n",
       "      <th>0</th>\n",
       "      <td>-122.23</td>\n",
       "      <td>37.88</td>\n",
       "      <td>41</td>\n",
       "      <td>880</td>\n",
       "      <td>129.0</td>\n",
       "      <td>322</td>\n",
       "      <td>126</td>\n",
       "      <td>8.3252</td>\n",
       "      <td>4</td>\n",
       "      <td>13.022764</td>\n",
       "    </tr>\n",
       "    <tr>\n",
       "      <th>1</th>\n",
       "      <td>-122.22</td>\n",
       "      <td>37.86</td>\n",
       "      <td>21</td>\n",
       "      <td>7099</td>\n",
       "      <td>1106.0</td>\n",
       "      <td>2401</td>\n",
       "      <td>1138</td>\n",
       "      <td>8.3014</td>\n",
       "      <td>4</td>\n",
       "      <td>12.789684</td>\n",
       "    </tr>\n",
       "    <tr>\n",
       "      <th>2</th>\n",
       "      <td>-122.24</td>\n",
       "      <td>37.85</td>\n",
       "      <td>52</td>\n",
       "      <td>1467</td>\n",
       "      <td>190.0</td>\n",
       "      <td>496</td>\n",
       "      <td>177</td>\n",
       "      <td>7.2574</td>\n",
       "      <td>4</td>\n",
       "      <td>12.771671</td>\n",
       "    </tr>\n",
       "    <tr>\n",
       "      <th>3</th>\n",
       "      <td>-122.25</td>\n",
       "      <td>37.85</td>\n",
       "      <td>52</td>\n",
       "      <td>1274</td>\n",
       "      <td>235.0</td>\n",
       "      <td>558</td>\n",
       "      <td>219</td>\n",
       "      <td>5.6431</td>\n",
       "      <td>4</td>\n",
       "      <td>12.740517</td>\n",
       "    </tr>\n",
       "    <tr>\n",
       "      <th>4</th>\n",
       "      <td>-122.25</td>\n",
       "      <td>37.85</td>\n",
       "      <td>52</td>\n",
       "      <td>1627</td>\n",
       "      <td>280.0</td>\n",
       "      <td>565</td>\n",
       "      <td>259</td>\n",
       "      <td>3.8462</td>\n",
       "      <td>4</td>\n",
       "      <td>12.743151</td>\n",
       "    </tr>\n",
       "  </tbody>\n",
       "</table>\n",
       "</div>"
      ],
      "text/plain": [
       "   longitude  latitude  housing_median_age  total_rooms  total_bedrooms  \\\n",
       "0    -122.23     37.88                  41          880           129.0   \n",
       "1    -122.22     37.86                  21         7099          1106.0   \n",
       "2    -122.24     37.85                  52         1467           190.0   \n",
       "3    -122.25     37.85                  52         1274           235.0   \n",
       "4    -122.25     37.85                  52         1627           280.0   \n",
       "\n",
       "   population  households  median_income  ocean_proximity  median_house_value  \n",
       "0         322         126         8.3252                4           13.022764  \n",
       "1        2401        1138         8.3014                4           12.789684  \n",
       "2         496         177         7.2574                4           12.771671  \n",
       "3         558         219         5.6431                4           12.740517  \n",
       "4         565         259         3.8462                4           12.743151  "
      ]
     },
     "execution_count": 9,
     "metadata": {},
     "output_type": "execute_result"
    }
   ],
   "source": [
    "cleanup_cats  = {\"ocean_proximity\":     {\"<1H OCEAN\": 1, \"INLAND\": 2, \"ISLAND\": 3,\"NEAR BAY\":4, \"NEAR OCEAN\":5 }}\n",
    "df_California_housing_data.replace(cleanup_cats, inplace=True)\n",
    "df_California_housing_data.head()"
   ]
  },
  {
   "cell_type": "markdown",
   "metadata": {},
   "source": [
    "#### 7. Split features and target variables in to X_features and Y_target"
   ]
  },
  {
   "cell_type": "code",
   "execution_count": 10,
   "metadata": {},
   "outputs": [],
   "source": [
    "X_features = df_California_housing_data.iloc[:,:-1]\n",
    "Y_target = df_California_housing_data.iloc[:,-1:]"
   ]
  },
  {
   "cell_type": "markdown",
   "metadata": {},
   "source": [
    "#### 8. View Features dataset and shape of the dataframe"
   ]
  },
  {
   "cell_type": "code",
   "execution_count": 11,
   "metadata": {},
   "outputs": [
    {
     "data": {
      "text/html": [
       "<div>\n",
       "<style scoped>\n",
       "    .dataframe tbody tr th:only-of-type {\n",
       "        vertical-align: middle;\n",
       "    }\n",
       "\n",
       "    .dataframe tbody tr th {\n",
       "        vertical-align: top;\n",
       "    }\n",
       "\n",
       "    .dataframe thead th {\n",
       "        text-align: right;\n",
       "    }\n",
       "</style>\n",
       "<table border=\"1\" class=\"dataframe\">\n",
       "  <thead>\n",
       "    <tr style=\"text-align: right;\">\n",
       "      <th></th>\n",
       "      <th>longitude</th>\n",
       "      <th>latitude</th>\n",
       "      <th>housing_median_age</th>\n",
       "      <th>total_rooms</th>\n",
       "      <th>total_bedrooms</th>\n",
       "      <th>population</th>\n",
       "      <th>households</th>\n",
       "      <th>median_income</th>\n",
       "      <th>ocean_proximity</th>\n",
       "    </tr>\n",
       "  </thead>\n",
       "  <tbody>\n",
       "    <tr>\n",
       "      <th>0</th>\n",
       "      <td>-122.23</td>\n",
       "      <td>37.88</td>\n",
       "      <td>41</td>\n",
       "      <td>880</td>\n",
       "      <td>129.0</td>\n",
       "      <td>322</td>\n",
       "      <td>126</td>\n",
       "      <td>8.3252</td>\n",
       "      <td>4</td>\n",
       "    </tr>\n",
       "    <tr>\n",
       "      <th>1</th>\n",
       "      <td>-122.22</td>\n",
       "      <td>37.86</td>\n",
       "      <td>21</td>\n",
       "      <td>7099</td>\n",
       "      <td>1106.0</td>\n",
       "      <td>2401</td>\n",
       "      <td>1138</td>\n",
       "      <td>8.3014</td>\n",
       "      <td>4</td>\n",
       "    </tr>\n",
       "    <tr>\n",
       "      <th>2</th>\n",
       "      <td>-122.24</td>\n",
       "      <td>37.85</td>\n",
       "      <td>52</td>\n",
       "      <td>1467</td>\n",
       "      <td>190.0</td>\n",
       "      <td>496</td>\n",
       "      <td>177</td>\n",
       "      <td>7.2574</td>\n",
       "      <td>4</td>\n",
       "    </tr>\n",
       "    <tr>\n",
       "      <th>3</th>\n",
       "      <td>-122.25</td>\n",
       "      <td>37.85</td>\n",
       "      <td>52</td>\n",
       "      <td>1274</td>\n",
       "      <td>235.0</td>\n",
       "      <td>558</td>\n",
       "      <td>219</td>\n",
       "      <td>5.6431</td>\n",
       "      <td>4</td>\n",
       "    </tr>\n",
       "    <tr>\n",
       "      <th>4</th>\n",
       "      <td>-122.25</td>\n",
       "      <td>37.85</td>\n",
       "      <td>52</td>\n",
       "      <td>1627</td>\n",
       "      <td>280.0</td>\n",
       "      <td>565</td>\n",
       "      <td>259</td>\n",
       "      <td>3.8462</td>\n",
       "      <td>4</td>\n",
       "    </tr>\n",
       "  </tbody>\n",
       "</table>\n",
       "</div>"
      ],
      "text/plain": [
       "   longitude  latitude  housing_median_age  total_rooms  total_bedrooms  \\\n",
       "0    -122.23     37.88                  41          880           129.0   \n",
       "1    -122.22     37.86                  21         7099          1106.0   \n",
       "2    -122.24     37.85                  52         1467           190.0   \n",
       "3    -122.25     37.85                  52         1274           235.0   \n",
       "4    -122.25     37.85                  52         1627           280.0   \n",
       "\n",
       "   population  households  median_income  ocean_proximity  \n",
       "0         322         126         8.3252                4  \n",
       "1        2401        1138         8.3014                4  \n",
       "2         496         177         7.2574                4  \n",
       "3         558         219         5.6431                4  \n",
       "4         565         259         3.8462                4  "
      ]
     },
     "execution_count": 11,
     "metadata": {},
     "output_type": "execute_result"
    }
   ],
   "source": [
    "X_features.head()"
   ]
  },
  {
   "cell_type": "code",
   "execution_count": 12,
   "metadata": {},
   "outputs": [
    {
     "data": {
      "text/plain": [
       "(20640, 9)"
      ]
     },
     "execution_count": 12,
     "metadata": {},
     "output_type": "execute_result"
    }
   ],
   "source": [
    "X_features.shape"
   ]
  },
  {
   "cell_type": "markdown",
   "metadata": {},
   "source": [
    "#### 9. View Target dataset"
   ]
  },
  {
   "cell_type": "code",
   "execution_count": 13,
   "metadata": {},
   "outputs": [
    {
     "data": {
      "text/html": [
       "<div>\n",
       "<style scoped>\n",
       "    .dataframe tbody tr th:only-of-type {\n",
       "        vertical-align: middle;\n",
       "    }\n",
       "\n",
       "    .dataframe tbody tr th {\n",
       "        vertical-align: top;\n",
       "    }\n",
       "\n",
       "    .dataframe thead th {\n",
       "        text-align: right;\n",
       "    }\n",
       "</style>\n",
       "<table border=\"1\" class=\"dataframe\">\n",
       "  <thead>\n",
       "    <tr style=\"text-align: right;\">\n",
       "      <th></th>\n",
       "      <th>median_house_value</th>\n",
       "    </tr>\n",
       "  </thead>\n",
       "  <tbody>\n",
       "    <tr>\n",
       "      <th>0</th>\n",
       "      <td>13.022764</td>\n",
       "    </tr>\n",
       "    <tr>\n",
       "      <th>1</th>\n",
       "      <td>12.789684</td>\n",
       "    </tr>\n",
       "    <tr>\n",
       "      <th>2</th>\n",
       "      <td>12.771671</td>\n",
       "    </tr>\n",
       "    <tr>\n",
       "      <th>3</th>\n",
       "      <td>12.740517</td>\n",
       "    </tr>\n",
       "    <tr>\n",
       "      <th>4</th>\n",
       "      <td>12.743151</td>\n",
       "    </tr>\n",
       "  </tbody>\n",
       "</table>\n",
       "</div>"
      ],
      "text/plain": [
       "   median_house_value\n",
       "0           13.022764\n",
       "1           12.789684\n",
       "2           12.771671\n",
       "3           12.740517\n",
       "4           12.743151"
      ]
     },
     "execution_count": 13,
     "metadata": {},
     "output_type": "execute_result"
    }
   ],
   "source": [
    "Y_target.head()"
   ]
  },
  {
   "cell_type": "code",
   "execution_count": 14,
   "metadata": {},
   "outputs": [
    {
     "data": {
      "text/plain": [
       "(20640, 1)"
      ]
     },
     "execution_count": 14,
     "metadata": {},
     "output_type": "execute_result"
    }
   ],
   "source": [
    "Y_target.shape"
   ]
  },
  {
   "cell_type": "markdown",
   "metadata": {},
   "source": [
    "#### 10. Split the original dataset in to training and test datasets with 80% training and 20% test dataset"
   ]
  },
  {
   "cell_type": "code",
   "execution_count": 15,
   "metadata": {},
   "outputs": [],
   "source": [
    "X_train, X_test, Y_train, Y_test = train_test_split(X_features, Y_target,test_size=0.2, random_state = 1)"
   ]
  },
  {
   "cell_type": "markdown",
   "metadata": {},
   "source": [
    "#### 11. view the shape of splitted train and test datasets"
   ]
  },
  {
   "cell_type": "code",
   "execution_count": 16,
   "metadata": {},
   "outputs": [
    {
     "data": {
      "text/plain": [
       "((16512, 9), (4128, 9), (16512, 1), (4128, 1))"
      ]
     },
     "execution_count": 16,
     "metadata": {},
     "output_type": "execute_result"
    }
   ],
   "source": [
    "X_train.shape,X_test.shape, Y_train.shape, Y_test.shape"
   ]
  },
  {
   "cell_type": "markdown",
   "metadata": {},
   "source": [
    "#### 12: Create a model  to predict the housing prices outcome"
   ]
  },
  {
   "cell_type": "code",
   "execution_count": 17,
   "metadata": {},
   "outputs": [
    {
     "data": {
      "text/plain": [
       "LinearRegression(copy_X=True, fit_intercept=True, n_jobs=None, normalize=False)"
      ]
     },
     "execution_count": 17,
     "metadata": {},
     "output_type": "execute_result"
    }
   ],
   "source": [
    "linreg = LinearRegression()\n",
    "linreg.fit(X_train, Y_train)"
   ]
  },
  {
   "cell_type": "code",
   "execution_count": 18,
   "metadata": {},
   "outputs": [
    {
     "data": {
      "text/plain": [
       "(array([[-2.83742511e-01, -2.85020462e-01,  3.30446057e-03,\n",
       "         -2.55046046e-05,  3.82669160e-04, -1.75730920e-04,\n",
       "          3.29035909e-04,  1.76792041e-01, -1.14211075e-02]]),\n",
       " array([-12.49089022]))"
      ]
     },
     "execution_count": 18,
     "metadata": {},
     "output_type": "execute_result"
    }
   ],
   "source": [
    "#Print the intercept and coefficients \n",
    "linreg.coef_, linreg.intercept_"
   ]
  },
  {
   "cell_type": "markdown",
   "metadata": {},
   "source": [
    "##### 13. Predict the House Price from our trained model"
   ]
  },
  {
   "cell_type": "code",
   "execution_count": 19,
   "metadata": {},
   "outputs": [
    {
     "data": {
      "text/plain": [
       "array([[12.27225661],\n",
       "       [11.52356751],\n",
       "       [12.28176997],\n",
       "       ...,\n",
       "       [12.4349876 ],\n",
       "       [12.30948071],\n",
       "       [11.77940924]])"
      ]
     },
     "execution_count": 19,
     "metadata": {},
     "output_type": "execute_result"
    }
   ],
   "source": [
    "#Predict the outcome for the testing dataset\n",
    "Y_pred = linreg.predict(X_test)\n",
    "Y_pred"
   ]
  },
  {
   "cell_type": "markdown",
   "metadata": {},
   "source": [
    "#### 14: Calculate the Mean Square Error (MSE)"
   ]
  },
  {
   "cell_type": "code",
   "execution_count": 20,
   "metadata": {},
   "outputs": [],
   "source": [
    "#Import required libraries for calculating root MSE (mean square error)\n",
    "from sklearn import metrics\n"
   ]
  },
  {
   "cell_type": "code",
   "execution_count": 21,
   "metadata": {},
   "outputs": [
    {
     "data": {
      "text/plain": [
       "0.34835878102223805"
      ]
     },
     "execution_count": 21,
     "metadata": {},
     "output_type": "execute_result"
    }
   ],
   "source": [
    "#root mean squared error calculation:\n",
    "rmse = np.sqrt(metrics.mean_squared_error(Y_test,Y_pred))\n",
    "rmse"
   ]
  },
  {
   "cell_type": "code",
   "execution_count": 22,
   "metadata": {},
   "outputs": [
    {
     "name": "stdout",
     "output_type": "stream",
     "text": [
      "[355000.] [213684.64980857]\n",
      "[293800.] [201067.31760443]\n",
      "[324700.] [335781.23144686]\n"
     ]
    }
   ],
   "source": [
    "#taking exponent to get correct values as we normalized the prices using log\n",
    "print(np.exp(Y_test.values[0]),np.exp(Y_pred[0]))\n",
    "print(np.exp(Y_test.values[10]),np.exp(Y_pred[10]))\n",
    "print(np.exp(Y_test.values[4101]),np.exp(Y_pred[4101]))"
   ]
  },
  {
   "cell_type": "code",
   "execution_count": 23,
   "metadata": {},
   "outputs": [],
   "source": [
    "import seaborn as sns\n",
    "import matplotlib.pyplot as plt\n",
    "%matplotlib inline\n"
   ]
  },
  {
   "cell_type": "code",
   "execution_count": 24,
   "metadata": {},
   "outputs": [
    {
     "data": {
      "text/plain": [
       "4712     3.2500\n",
       "2151     1.9784\n",
       "15927    4.0132\n",
       "82       1.5208\n",
       "8161     5.1795\n",
       "          ...  \n",
       "2319     2.3173\n",
       "5341     2.1875\n",
       "16888    5.0480\n",
       "6823     4.8750\n",
       "11878    2.7054\n",
       "Name: median_income, Length: 4128, dtype: float64"
      ]
     },
     "execution_count": 24,
     "metadata": {},
     "output_type": "execute_result"
    }
   ],
   "source": [
    "X_test['median_income']"
   ]
  },
  {
   "cell_type": "code",
   "execution_count": 25,
   "metadata": {},
   "outputs": [
    {
     "data": {
      "text/plain": [
       "<matplotlib.axes._subplots.AxesSubplot at 0x7fb02afc6bd0>"
      ]
     },
     "execution_count": 25,
     "metadata": {},
     "output_type": "execute_result"
    },
    {
     "data": {
      "image/png": "[encoded data removed]",
      "text/plain": [
       "<Figure size 432x288 with 1 Axes>"
      ]
     },
     "metadata": {
      "needs_background": "light"
     },
     "output_type": "display_data"
    }
   ],
   "source": [
    "plt.hist(np.array(Y_pred), bins=75,label = \"expected\")\n",
    "plt.hist(np.array(Y_test['median_house_value']), bins=75,label = \"predicted\")\n",
    "sns.distplot(np.array(Y_test['median_house_value']))"
   ]
  },
  {
   "cell_type": "code",
   "execution_count": 26,
   "metadata": {},
   "outputs": [
    {
     "data": {
      "image/png": "[encoded data removed]",
      "text/plain": [
       "<Figure size 432x288 with 1 Axes>"
      ]
     },
     "metadata": {
      "needs_background": "light"
     },
     "output_type": "display_data"
    }
   ],
   "source": [
    "plt.scatter(np.array(X_test['median_income']),np.array(Y_test['median_house_value']),label = \"expected\")\n",
    "plt.scatter(np.array(X_test['median_income']),np.array(Y_pred), label = \"predicted\")\n",
    "plt.title('median income vs house value in California')\n",
    "plt.xlabel('median income')\n",
    "plt.ylabel('house value')\n",
    "plt.legend()\n",
    "plt.show()\n"
   ]
  },
  {
   "cell_type": "markdown",
   "metadata": {},
   "source": [
    "### Part B: Predict housing prices using median income feature"
   ]
  },
  {
   "cell_type": "code",
   "execution_count": 27,
   "metadata": {},
   "outputs": [],
   "source": [
    "# lets use median_income as feature column and nuild our model. We already cleaned the data and amputed missing values with mean in section A and converted categorical column to numeric.\n",
    "X_features_B = df_California_housing_data[\"median_income\"]\n",
    "Y_target_B = df_California_housing_data.iloc[:,-1:]"
   ]
  },
  {
   "cell_type": "code",
   "execution_count": 28,
   "metadata": {},
   "outputs": [
    {
     "data": {
      "text/plain": [
       "(0        8.3252\n",
       " 1        8.3014\n",
       " 2        7.2574\n",
       " 3        5.6431\n",
       " 4        3.8462\n",
       "           ...  \n",
       " 20635    1.5603\n",
       " 20636    2.5568\n",
       " 20637    1.7000\n",
       " 20638    1.8672\n",
       " 20639    2.3886\n",
       " Name: median_income, Length: 20640, dtype: float64,\n",
       "        median_house_value\n",
       " 0               13.022764\n",
       " 1               12.789684\n",
       " 2               12.771671\n",
       " 3               12.740517\n",
       " 4               12.743151\n",
       " ...                   ...\n",
       " 20635           11.265745\n",
       " 20636           11.252859\n",
       " 20637           11.432799\n",
       " 20638           11.346871\n",
       " 20639           11.400876\n",
       " \n",
       " [20640 rows x 1 columns])"
      ]
     },
     "execution_count": 28,
     "metadata": {},
     "output_type": "execute_result"
    }
   ],
   "source": [
    "#take a look at our data\n",
    "X_features_B, Y_target_B"
   ]
  },
  {
   "cell_type": "code",
   "execution_count": 29,
   "metadata": {},
   "outputs": [
    {
     "data": {
      "text/plain": [
       "((16512,), (4128,), (16512, 1), (4128, 1))"
      ]
     },
     "execution_count": 29,
     "metadata": {},
     "output_type": "execute_result"
    }
   ],
   "source": [
    "#Split the training and test data and look at their shape\n",
    "X_train_B, X_test_B, Y_train_B, Y_test_B = train_test_split(X_features_B, Y_target_B,test_size=0.2, random_state = 1)\n",
    "X_train_B.shape,X_test_B.shape, Y_train_B.shape, Y_test_B.shape"
   ]
  },
  {
   "cell_type": "code",
   "execution_count": 30,
   "metadata": {},
   "outputs": [
    {
     "data": {
      "text/plain": [
       "LinearRegression(copy_X=True, fit_intercept=True, n_jobs=None, normalize=False)"
      ]
     },
     "execution_count": 30,
     "metadata": {},
     "output_type": "execute_result"
    }
   ],
   "source": [
    "#create linear regression model using scikit learn\n",
    "linreg_B = LinearRegression()\n",
    "linreg_B.fit(X_train_B.values.reshape(-1,1), Y_train_B)"
   ]
  },
  {
   "cell_type": "code",
   "execution_count": 31,
   "metadata": {},
   "outputs": [
    {
     "data": {
      "text/plain": [
       "(array([[0.19809328]]), array([11.32193123]))"
      ]
     },
     "execution_count": 31,
     "metadata": {},
     "output_type": "execute_result"
    }
   ],
   "source": [
    "#Print the intercept and coefficients \n",
    "linreg_B.coef_, linreg_B.intercept_"
   ]
  },
  {
   "cell_type": "code",
   "execution_count": 32,
   "metadata": {},
   "outputs": [
    {
     "data": {
      "text/plain": [
       "array([[157272.3666001 ],\n",
       "       [122251.90391769],\n",
       "       [182941.04003019],\n",
       "       ...,\n",
       "       [224561.7769342 ],\n",
       "       [216996.38772007],\n",
       "       [141188.73186901]])"
      ]
     },
     "execution_count": 32,
     "metadata": {},
     "output_type": "execute_result"
    }
   ],
   "source": [
    "#Predict the outcome for the testing dataset\n",
    "Y_pred_B = linreg_B.predict(X_test_B.values.reshape(-1,1))\n",
    "np.exp(Y_pred_B)"
   ]
  },
  {
   "cell_type": "code",
   "execution_count": 33,
   "metadata": {},
   "outputs": [
    {
     "data": {
      "image/png": "[encoded data removed]",
      "text/plain": [
       "<Figure size 432x288 with 1 Axes>"
      ]
     },
     "metadata": {
      "needs_background": "light"
     },
     "output_type": "display_data"
    }
   ],
   "source": [
    "#lets plot a graph of predicted and expected values\n",
    "plt.scatter(X_test_B,Y_test_B,label = \"expected\")\n",
    "plt.scatter(X_test_B,Y_pred_B, label = \"predicted\")\n",
    "plt.title('median income vs house value in California')\n",
    "plt.xlabel('median income')\n",
    "plt.ylabel('house value')\n",
    "plt.legend()\n",
    "plt.show()\n"
   ]
  }
 ],
 "metadata": {
  "kernelspec": {
   "display_name": "Python 3",
   "language": "python",
   "name": "python3"
  },
  "language_info": {
   "codemirror_mode": {
    "name": "ipython",
    "version": 3
   },
   "file_extension": ".py",
   "mimetype": "text/x-python",
   "name": "python",
   "nbconvert_exporter": "python",
   "pygments_lexer": "ipython3",
   "version": "3.7.6"
  }
 },
 "nbformat": 4,
 "nbformat_minor": 4
}
